{
 "cells": [
  {
   "cell_type": "code",
   "execution_count": 1,
   "id": "2cf6fc98",
   "metadata": {
    "_cell_guid": "b1076dfc-b9ad-4769-8c92-a6c4dae69d19",
    "_uuid": "8f2839f25d086af736a60e9eeb907d3b93b6e0e5",
    "papermill": {
     "duration": 0.377154,
     "end_time": "2023-10-20T10:08:51.814740",
     "exception": false,
     "start_time": "2023-10-20T10:08:51.437586",
     "status": "completed"
    },
    "tags": []
   },
   "outputs": [],
   "source": [
    "import pandas as pd\n",
    "import numpy as np"
   ]
  },
  {
   "cell_type": "markdown",
   "id": "7af20d90",
   "metadata": {
    "papermill": {
     "duration": 0.007166,
     "end_time": "2023-10-20T10:08:51.829778",
     "exception": false,
     "start_time": "2023-10-20T10:08:51.822612",
     "status": "completed"
    },
    "tags": []
   },
   "source": [
    "# Análisis de la base de usuarios de Netflix"
   ]
  },
  {
   "cell_type": "code",
   "execution_count": 2,
   "id": "995c90e3",
   "metadata": {
    "papermill": {
     "duration": 0.050019,
     "end_time": "2023-10-20T10:08:51.887600",
     "exception": false,
     "start_time": "2023-10-20T10:08:51.837581",
     "status": "completed"
    },
    "tags": []
   },
   "outputs": [],
   "source": [
    "df=pd.read_csv('netflix-userbase.csv')"
   ]
  },
  {
   "cell_type": "markdown",
   "id": "29142f8c",
   "metadata": {
    "papermill": {
     "duration": 0.005691,
     "end_time": "2023-10-20T10:08:51.899540",
     "exception": false,
     "start_time": "2023-10-20T10:08:51.893849",
     "status": "completed"
    },
    "tags": []
   },
   "source": [
    "### Echa un vistazo a los datos y su estructura"
   ]
  },
  {
   "cell_type": "code",
   "execution_count": 3,
   "id": "3c52bca7",
   "metadata": {
    "papermill": {
     "duration": 0.032913,
     "end_time": "2023-10-20T10:08:51.938393",
     "exception": false,
     "start_time": "2023-10-20T10:08:51.905480",
     "status": "completed"
    },
    "tags": []
   },
   "outputs": [],
   "source": [
    "# Primeras filas"
   ]
  },
  {
   "cell_type": "code",
   "execution_count": 4,
   "id": "8a6bb998",
   "metadata": {
    "papermill": {
     "duration": 0.017161,
     "end_time": "2023-10-20T10:08:51.961960",
     "exception": false,
     "start_time": "2023-10-20T10:08:51.944799",
     "status": "completed"
    },
    "tags": []
   },
   "outputs": [],
   "source": [
    "# Tamaño del dataframe"
   ]
  },
  {
   "cell_type": "code",
   "execution_count": 5,
   "id": "89a17194",
   "metadata": {
    "papermill": {
     "duration": 0.015799,
     "end_time": "2023-10-20T10:08:51.984541",
     "exception": false,
     "start_time": "2023-10-20T10:08:51.968742",
     "status": "completed"
    },
    "tags": []
   },
   "outputs": [],
   "source": [
    "# Columnas"
   ]
  },
  {
   "cell_type": "code",
   "execution_count": 6,
   "id": "1166fe98",
   "metadata": {
    "papermill": {
     "duration": 0.016296,
     "end_time": "2023-10-20T10:08:52.007535",
     "exception": false,
     "start_time": "2023-10-20T10:08:51.991239",
     "status": "completed"
    },
    "tags": []
   },
   "outputs": [],
   "source": [
    "# Tipos de los datos"
   ]
  },
  {
   "cell_type": "code",
   "execution_count": 7,
   "id": "64ea54c8",
   "metadata": {
    "papermill": {
     "duration": 0.016518,
     "end_time": "2023-10-20T10:08:52.031146",
     "exception": false,
     "start_time": "2023-10-20T10:08:52.014628",
     "status": "completed"
    },
    "tags": []
   },
   "outputs": [],
   "source": [
    "# Dimensiones del dataframe"
   ]
  },
  {
   "cell_type": "code",
   "execution_count": 8,
   "id": "56096543",
   "metadata": {
    "papermill": {
     "duration": 0.03829,
     "end_time": "2023-10-20T10:08:52.076180",
     "exception": false,
     "start_time": "2023-10-20T10:08:52.037890",
     "status": "completed"
    },
    "tags": []
   },
   "outputs": [],
   "source": [
    "# Información integrada con el método .info(). Explica lo que nos proporciona"
   ]
  },
  {
   "cell_type": "code",
   "execution_count": 9,
   "id": "5fde8ffd",
   "metadata": {
    "papermill": {
     "duration": 0.029972,
     "end_time": "2023-10-20T10:08:52.113385",
     "exception": false,
     "start_time": "2023-10-20T10:08:52.083413",
     "status": "completed"
    },
    "tags": []
   },
   "outputs": [],
   "source": [
    "# Estadística general del dataframe (columnas numéricas)"
   ]
  },
  {
   "cell_type": "markdown",
   "id": "fa723a9c",
   "metadata": {
    "papermill": {
     "duration": 0.007258,
     "end_time": "2023-10-20T10:08:52.240534",
     "exception": false,
     "start_time": "2023-10-20T10:08:52.233276",
     "status": "completed"
    },
    "tags": []
   },
   "source": [
    "## Detección de valores nulos"
   ]
  },
  {
   "cell_type": "code",
   "execution_count": 10,
   "id": "56a20a77",
   "metadata": {
    "papermill": {
     "duration": 0.029537,
     "end_time": "2023-10-20T10:08:52.277611",
     "exception": false,
     "start_time": "2023-10-20T10:08:52.248074",
     "status": "completed"
    },
    "tags": []
   },
   "outputs": [],
   "source": [
    "# Visualiza el dataframe para poner en evidencia los valores nulos (NaN)"
   ]
  },
  {
   "cell_type": "code",
   "execution_count": 11,
   "id": "5f250ae1",
   "metadata": {
    "papermill": {
     "duration": 0.018464,
     "end_time": "2023-10-20T10:08:52.304016",
     "exception": false,
     "start_time": "2023-10-20T10:08:52.285552",
     "status": "completed"
    },
    "tags": []
   },
   "outputs": [],
   "source": [
    "# ¿Cuántos hay en cada columna?"
   ]
  },
  {
   "cell_type": "markdown",
   "id": "9804d6ff",
   "metadata": {
    "papermill": {
     "duration": 0.007548,
     "end_time": "2023-10-20T10:08:52.319547",
     "exception": false,
     "start_time": "2023-10-20T10:08:52.311999",
     "status": "completed"
    },
    "tags": []
   },
   "source": [
    "## Subscriptores de un país"
   ]
  },
  {
   "cell_type": "code",
   "execution_count": 12,
   "id": "bb0d689d-7d10-4d88-bd69-aac24593c4bb",
   "metadata": {},
   "outputs": [],
   "source": [
    "# ¿Cuántos suscriptores españoles hay?"
   ]
  },
  {
   "cell_type": "code",
   "execution_count": 13,
   "id": "8a954ea1",
   "metadata": {
    "papermill": {
     "duration": 0.01959,
     "end_time": "2023-10-20T10:08:52.374633",
     "exception": false,
     "start_time": "2023-10-20T10:08:52.355043",
     "status": "completed"
    },
    "tags": []
   },
   "outputs": [],
   "source": [
    "# Obtén el dataframe que contiene todos los suscriptores españoles"
   ]
  },
  {
   "cell_type": "markdown",
   "id": "512da828",
   "metadata": {
    "papermill": {
     "duration": 0.008524,
     "end_time": "2023-10-20T10:08:52.758553",
     "exception": false,
     "start_time": "2023-10-20T10:08:52.750029",
     "status": "completed"
    },
    "tags": []
   },
   "source": [
    "## Usuarios por país"
   ]
  },
  {
   "cell_type": "code",
   "execution_count": 14,
   "id": "388b03e2",
   "metadata": {
    "papermill": {
     "duration": 0.288636,
     "end_time": "2023-10-20T10:08:53.114128",
     "exception": false,
     "start_time": "2023-10-20T10:08:52.825492",
     "status": "completed"
    },
    "tags": []
   },
   "outputs": [],
   "source": [
    "# Tabla del número de usuarios por país"
   ]
  },
  {
   "cell_type": "code",
   "execution_count": 15,
   "id": "deedb358-3aed-4375-95c3-9cd51b70b6ff",
   "metadata": {
    "papermill": {
     "duration": 0.007994,
     "end_time": "2023-10-20T10:08:52.452409",
     "exception": false,
     "start_time": "2023-10-20T10:08:52.444415",
     "status": "completed"
    },
    "tags": []
   },
   "outputs": [],
   "source": [
    "## ¿Qué país tiene más usuarios mayores de 50 años?"
   ]
  },
  {
   "cell_type": "markdown",
   "id": "bd7d6aa2",
   "metadata": {
    "papermill": {
     "duration": 0.009392,
     "end_time": "2023-10-20T10:08:53.133349",
     "exception": false,
     "start_time": "2023-10-20T10:08:53.123957",
     "status": "completed"
    },
    "tags": []
   },
   "source": [
    "## Ingresos mensuales por tipo de suscripción"
   ]
  },
  {
   "cell_type": "code",
   "execution_count": 16,
   "id": "94369d1e-f003-4c9d-819e-9df227c517af",
   "metadata": {},
   "outputs": [],
   "source": [
    "# Encuentra los tipos dde suscripción"
   ]
  },
  {
   "cell_type": "code",
   "execution_count": 17,
   "id": "87c0de17-ab6d-44ac-bc53-e0d3b227721f",
   "metadata": {},
   "outputs": [],
   "source": [
    "# Extrae un dataframe por cada tipo de suscripción"
   ]
  },
  {
   "cell_type": "code",
   "execution_count": 18,
   "id": "0860e777-34ed-4229-821d-21da492043f9",
   "metadata": {},
   "outputs": [],
   "source": [
    "# Obtén la facturación mensual por tipo de suscripción"
   ]
  },
  {
   "cell_type": "code",
   "execution_count": 19,
   "id": "9da47a00-1027-40a5-8bca-eaa1eefdb31f",
   "metadata": {},
   "outputs": [],
   "source": [
    "# Comprueba que la suma de facturaciones por suscripción es igual a la facturación total"
   ]
  }
 ],
 "metadata": {
  "kernelspec": {
   "display_name": "Python 3 (ipykernel)",
   "language": "python",
   "name": "python3"
  },
  "language_info": {
   "codemirror_mode": {
    "name": "ipython",
    "version": 3
   },
   "file_extension": ".py",
   "mimetype": "text/x-python",
   "name": "python",
   "nbconvert_exporter": "python",
   "pygments_lexer": "ipython3",
   "version": "3.9.12"
  },
  "papermill": {
   "default_parameters": {},
   "duration": 6.444806,
   "end_time": "2023-10-20T10:08:54.772105",
   "environment_variables": {},
   "exception": null,
   "input_path": "__notebook__.ipynb",
   "output_path": "__notebook__.ipynb",
   "parameters": {},
   "start_time": "2023-10-20T10:08:48.327299",
   "version": "2.4.0"
  }
 },
 "nbformat": 4,
 "nbformat_minor": 5
}
